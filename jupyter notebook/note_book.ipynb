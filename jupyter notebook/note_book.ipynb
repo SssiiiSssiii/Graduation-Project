{
 "cells": [
  {
   "cell_type": "code",
   "execution_count": 1,
   "id": "8db18487",
   "metadata": {},
   "outputs": [],
   "source": [
    "# Tokenization\n",
    "def tokenize(sample):\n",
    "    tokens = araby.tokenize(sample)\n",
    "    return tokens"
   ]
  },
  {
   "cell_type": "code",
   "execution_count": 21,
   "id": "8b213f22",
   "metadata": {},
   "outputs": [],
   "source": [
    "# Remove stop words\n",
    "def remove_Stop_Words(tokens):\n",
    "    stop_words = ArabicStopWords()\n",
    "    filtered = [token for token in tokens if token not in stop_words.get_stop_words()]\n",
    "    return filtered "
   ]
  },
  {
   "cell_type": "code",
   "execution_count": 19,
   "id": "25cb27b4",
   "metadata": {},
   "outputs": [],
   "source": [
    "def stemming(filtered_tokens):\n",
    "    stemmer = ISRIStemmer()\n",
    "    stemmed_tokens = [stemmer.stem(token) for token in filtered_tokens]\n",
    "    return stemmed_tokens"
   ]
  },
  {
   "cell_type": "code",
   "execution_count": 22,
   "id": "25246d24",
   "metadata": {},
   "outputs": [],
   "source": [
    "def normalize(token):\n",
    "    token = re.sub(\"[إأآا]\", \"ا\", token)\n",
    "    token = re.sub(\"ى\", \"ي\", token)\n",
    "    token = re.sub(\"ة\", \"ه\", token)\n",
    "    token = re.sub(\"[\\W\\d]\", \"\", token)\n",
    "    token = araby.strip_diacritics(token)\n",
    "    token = araby.strip_tatweel(token)\n",
    "    return token"
   ]
  },
  {
   "cell_type": "code",
   "execution_count": 16,
   "id": "4db0952a",
   "metadata": {},
   "outputs": [],
   "source": [
    "file_path = 'Data_Set.txt'\n",
    "cols = ['Class', 'Text']\n",
    "sample = pd.read_csv(file_path, sep='\\t', header= None, names= cols)"
   ]
  },
  {
   "cell_type": "code",
   "execution_count": 14,
   "id": "1678534f",
   "metadata": {},
   "outputs": [
    {
     "data": {
      "text/html": [
       "<div>\n",
       "<style scoped>\n",
       "    .dataframe tbody tr th:only-of-type {\n",
       "        vertical-align: middle;\n",
       "    }\n",
       "\n",
       "    .dataframe tbody tr th {\n",
       "        vertical-align: top;\n",
       "    }\n",
       "\n",
       "    .dataframe thead th {\n",
       "        text-align: right;\n",
       "    }\n",
       "</style>\n",
       "<table border=\"1\" class=\"dataframe\">\n",
       "  <thead>\n",
       "    <tr style=\"text-align: right;\">\n",
       "      <th></th>\n",
       "      <th>Class</th>\n",
       "      <th>Text</th>\n",
       "    </tr>\n",
       "  </thead>\n",
       "  <tbody>\n",
       "    <tr>\n",
       "      <th>0</th>\n",
       "      <td>pos</td>\n",
       "      <td>ابتسامة</td>\n",
       "    </tr>\n",
       "    <tr>\n",
       "      <th>1</th>\n",
       "      <td>pos</td>\n",
       "      <td>ابتكار</td>\n",
       "    </tr>\n",
       "    <tr>\n",
       "      <th>2</th>\n",
       "      <td>pos</td>\n",
       "      <td>ابتكاري</td>\n",
       "    </tr>\n",
       "    <tr>\n",
       "      <th>3</th>\n",
       "      <td>pos</td>\n",
       "      <td>احتفال</td>\n",
       "    </tr>\n",
       "    <tr>\n",
       "      <th>4</th>\n",
       "      <td>pos</td>\n",
       "      <td>احتفل</td>\n",
       "    </tr>\n",
       "  </tbody>\n",
       "</table>\n",
       "</div>"
      ],
      "text/plain": [
       "  Class     Text\n",
       "0   pos  ابتسامة\n",
       "1   pos   ابتكار\n",
       "2   pos  ابتكاري\n",
       "3   pos   احتفال\n",
       "4   pos    احتفل"
      ]
     },
     "execution_count": 14,
     "metadata": {},
     "output_type": "execute_result"
    }
   ],
   "source": [
    "sample.head()"
   ]
  },
  {
   "cell_type": "code",
   "execution_count": null,
   "id": "c141710e",
   "metadata": {},
   "outputs": [],
   "source": []
  }
 ],
 "metadata": {
  "kernelspec": {
   "display_name": "Python 3 (ipykernel)",
   "language": "python",
   "name": "python3"
  },
  "language_info": {
   "codemirror_mode": {
    "name": "ipython",
    "version": 3
   },
   "file_extension": ".py",
   "mimetype": "text/x-python",
   "name": "python",
   "nbconvert_exporter": "python",
   "pygments_lexer": "ipython3",
   "version": "3.10.8"
  }
 },
 "nbformat": 4,
 "nbformat_minor": 5
}
